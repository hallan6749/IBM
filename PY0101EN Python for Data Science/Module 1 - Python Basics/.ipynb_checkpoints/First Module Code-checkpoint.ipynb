{
 "cells": [
  {
   "cell_type": "markdown",
   "id": "6e37b74f",
   "metadata": {},
   "source": [
    "# Your First Program"
   ]
  },
  {
   "cell_type": "markdown",
   "id": "bf29b5c5",
   "metadata": {},
   "source": [
    "## Using the Practice Lab, find the result of executing print(\"Hello\\nWorld!\") statement."
   ]
  },
  {
   "cell_type": "code",
   "execution_count": 1,
   "id": "e0460934",
   "metadata": {},
   "outputs": [
    {
     "name": "stdout",
     "output_type": "stream",
     "text": [
      "Hello\n",
      "World!\n"
     ]
    }
   ],
   "source": [
    "print(\"Hello\\nWorld!\")"
   ]
  },
  {
   "cell_type": "markdown",
   "id": "7f96aa65",
   "metadata": {},
   "source": [
    "## What is the output of executing the following statement: # print('Hello World!')?"
   ]
  },
  {
   "cell_type": "code",
   "execution_count": 2,
   "id": "6b420afe",
   "metadata": {},
   "outputs": [],
   "source": [
    "# print('Hello World!')"
   ]
  },
  {
   "cell_type": "markdown",
   "id": "4940f920",
   "metadata": {},
   "source": [
    "# Types"
   ]
  },
  {
   "cell_type": "markdown",
   "id": "c69c892f",
   "metadata": {},
   "source": [
    "## What is the type of the following: int(1.0)?"
   ]
  },
  {
   "cell_type": "code",
   "execution_count": 3,
   "id": "178f37d8",
   "metadata": {},
   "outputs": [
    {
     "data": {
      "text/plain": [
       "int"
      ]
     },
     "execution_count": 3,
     "metadata": {},
     "output_type": "execute_result"
    }
   ],
   "source": [
    "type(int(1.0))"
   ]
  },
  {
   "cell_type": "markdown",
   "id": "5f973a09",
   "metadata": {},
   "source": [
    "## Enter the code to convert the number 1 to a Boolean."
   ]
  },
  {
   "cell_type": "code",
   "execution_count": 5,
   "id": "ffe84f50",
   "metadata": {},
   "outputs": [
    {
     "data": {
      "text/plain": [
       "True"
      ]
     },
     "execution_count": 5,
     "metadata": {},
     "output_type": "execute_result"
    }
   ],
   "source": [
    "bool(1)"
   ]
  },
  {
   "cell_type": "markdown",
   "id": "157eb49b",
   "metadata": {},
   "source": [
    "# Expressions and Variables"
   ]
  },
  {
   "cell_type": "code",
   "execution_count": null,
   "id": "2b00e21f",
   "metadata": {},
   "outputs": [],
   "source": []
  }
 ],
 "metadata": {
  "kernelspec": {
   "display_name": "Python 3 (ipykernel)",
   "language": "python",
   "name": "python3"
  },
  "language_info": {
   "codemirror_mode": {
    "name": "ipython",
    "version": 3
   },
   "file_extension": ".py",
   "mimetype": "text/x-python",
   "name": "python",
   "nbconvert_exporter": "python",
   "pygments_lexer": "ipython3",
   "version": "3.8.12"
  }
 },
 "nbformat": 4,
 "nbformat_minor": 5
}
