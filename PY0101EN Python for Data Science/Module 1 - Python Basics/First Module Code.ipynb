{
 "cells": [
  {
   "cell_type": "markdown",
   "id": "6e37b74f",
   "metadata": {},
   "source": [
    "# Your First Program"
   ]
  },
  {
   "cell_type": "markdown",
   "id": "bf29b5c5",
   "metadata": {},
   "source": [
    "## Using the Practice Lab, find the result of executing print(\"Hello\\nWorld!\") statement."
   ]
  },
  {
   "cell_type": "code",
   "execution_count": 1,
   "id": "e0460934",
   "metadata": {},
   "outputs": [
    {
     "name": "stdout",
     "output_type": "stream",
     "text": [
      "Hello\n",
      "World!\n"
     ]
    }
   ],
   "source": [
    "print(\"Hello\\nWorld!\")"
   ]
  },
  {
   "cell_type": "markdown",
   "id": "7f96aa65",
   "metadata": {},
   "source": [
    "## What is the output of executing the following statement: # print('Hello World!')?"
   ]
  },
  {
   "cell_type": "code",
   "execution_count": 2,
   "id": "6b420afe",
   "metadata": {},
   "outputs": [],
   "source": [
    "# print('Hello World!')"
   ]
  },
  {
   "cell_type": "markdown",
   "id": "4940f920",
   "metadata": {},
   "source": [
    "# Types"
   ]
  },
  {
   "cell_type": "markdown",
   "id": "c69c892f",
   "metadata": {},
   "source": [
    "## What is the type of the following: int(1.0)?"
   ]
  },
  {
   "cell_type": "code",
   "execution_count": 3,
   "id": "178f37d8",
   "metadata": {},
   "outputs": [
    {
     "data": {
      "text/plain": [
       "int"
      ]
     },
     "execution_count": 3,
     "metadata": {},
     "output_type": "execute_result"
    }
   ],
   "source": [
    "type(int(1.0))"
   ]
  },
  {
   "cell_type": "markdown",
   "id": "5f973a09",
   "metadata": {},
   "source": [
    "## Enter the code to convert the number 1 to a Boolean."
   ]
  },
  {
   "cell_type": "code",
   "execution_count": 5,
   "id": "ffe84f50",
   "metadata": {},
   "outputs": [
    {
     "data": {
      "text/plain": [
       "True"
      ]
     },
     "execution_count": 5,
     "metadata": {},
     "output_type": "execute_result"
    }
   ],
   "source": [
    "bool(1)"
   ]
  },
  {
   "cell_type": "markdown",
   "id": "157eb49b",
   "metadata": {},
   "source": [
    "# Expressions and Variables"
   ]
  },
  {
   "cell_type": "markdown",
   "id": "25e3166d",
   "metadata": {},
   "source": [
    "# String Operations"
   ]
  },
  {
   "cell_type": "markdown",
   "id": "2625e0bd",
   "metadata": {},
   "source": [
    "## Consider the following string: Numbers = \"0123456\" How would you obtain the even elements?"
   ]
  },
  {
   "cell_type": "code",
   "execution_count": 2,
   "id": "b1413ab9",
   "metadata": {},
   "outputs": [
    {
     "data": {
      "text/plain": [
       "'0246'"
      ]
     },
     "execution_count": 2,
     "metadata": {},
     "output_type": "execute_result"
    }
   ],
   "source": [
    "Numbers = \"0123456\"\n",
    "Numbers[::2]"
   ]
  },
  {
   "cell_type": "markdown",
   "id": "d5e1d31b",
   "metadata": {},
   "source": [
    "## What is the result of the following line of code: \"0123456\".find('1')"
   ]
  },
  {
   "cell_type": "code",
   "execution_count": 4,
   "id": "bc8c2b8e",
   "metadata": {},
   "outputs": [
    {
     "data": {
      "text/plain": [
       "1"
      ]
     },
     "execution_count": 4,
     "metadata": {},
     "output_type": "execute_result"
    }
   ],
   "source": [
    "\"0123456\".find('1')"
   ]
  },
  {
   "cell_type": "markdown",
   "id": "03d0184d",
   "metadata": {},
   "source": [
    "# Review Questions"
   ]
  },
  {
   "cell_type": "markdown",
   "id": "6299bc96",
   "metadata": {},
   "source": [
    "## What is the result of the following operation in Python: 3 + 2 * 2"
   ]
  },
  {
   "cell_type": "code",
   "execution_count": 5,
   "id": "9180d37f",
   "metadata": {},
   "outputs": [
    {
     "data": {
      "text/plain": [
       "7"
      ]
     },
     "execution_count": 5,
     "metadata": {},
     "output_type": "execute_result"
    }
   ],
   "source": [
    "3 + 2 * 2"
   ]
  },
  {
   "cell_type": "markdown",
   "id": "c68449de",
   "metadata": {},
   "source": [
    "## In Python, if you executed name = 'Lizz', what would be the output of print(name[0:2])?"
   ]
  },
  {
   "cell_type": "code",
   "execution_count": 6,
   "id": "c7fb96b7",
   "metadata": {},
   "outputs": [
    {
     "name": "stdout",
     "output_type": "stream",
     "text": [
      "Li\n"
     ]
    }
   ],
   "source": [
    "name = 'Lizz'\n",
    "print(name[0:2])"
   ]
  },
  {
   "cell_type": "markdown",
   "id": "e8d6f362",
   "metadata": {},
   "source": [
    "## In Python, if you executed var = '01234567', what would be the result of print(var[::2])?"
   ]
  },
  {
   "cell_type": "code",
   "execution_count": 7,
   "id": "bcc9fe40",
   "metadata": {},
   "outputs": [
    {
     "name": "stdout",
     "output_type": "stream",
     "text": [
      "0246\n"
     ]
    }
   ],
   "source": [
    "var = '01234567'\n",
    "print(var[::2])"
   ]
  },
  {
   "cell_type": "markdown",
   "id": "e2c7c02d",
   "metadata": {},
   "source": [
    "## In Python, what is the result of the following operation '1'+'2'?"
   ]
  },
  {
   "cell_type": "code",
   "execution_count": 8,
   "id": "d8b566fb",
   "metadata": {},
   "outputs": [
    {
     "data": {
      "text/plain": [
       "'12'"
      ]
     },
     "execution_count": 8,
     "metadata": {},
     "output_type": "execute_result"
    }
   ],
   "source": [
    "'1'+'2'"
   ]
  },
  {
   "cell_type": "markdown",
   "id": "b0548bc2",
   "metadata": {},
   "source": [
    "## Given myvar = 'hello', how would you convert myvar into uppercase?"
   ]
  },
  {
   "cell_type": "code",
   "execution_count": 9,
   "id": "220cfd48",
   "metadata": {},
   "outputs": [
    {
     "data": {
      "text/plain": [
       "'HELLO'"
      ]
     },
     "execution_count": 9,
     "metadata": {},
     "output_type": "execute_result"
    }
   ],
   "source": [
    "myvar = 'hello'\n",
    "myvar.upper()"
   ]
  }
 ],
 "metadata": {
  "kernelspec": {
   "display_name": "Python 3 (ipykernel)",
   "language": "python",
   "name": "python3"
  },
  "language_info": {
   "codemirror_mode": {
    "name": "ipython",
    "version": 3
   },
   "file_extension": ".py",
   "mimetype": "text/x-python",
   "name": "python",
   "nbconvert_exporter": "python",
   "pygments_lexer": "ipython3",
   "version": "3.8.12"
  }
 },
 "nbformat": 4,
 "nbformat_minor": 5
}
