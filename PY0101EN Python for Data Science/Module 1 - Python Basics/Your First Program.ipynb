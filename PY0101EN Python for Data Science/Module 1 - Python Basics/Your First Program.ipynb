{
 "cells": [
  {
   "cell_type": "markdown",
   "id": "dc156c03",
   "metadata": {},
   "source": [
    "# Using the Practice Lab, find the result of executing print(\"Hello\\nWorld!\") statement."
   ]
  },
  {
   "cell_type": "code",
   "execution_count": 1,
   "id": "6aca9fbb",
   "metadata": {},
   "outputs": [
    {
     "name": "stdout",
     "output_type": "stream",
     "text": [
      "Hello\n",
      "World!\n"
     ]
    }
   ],
   "source": [
    "print(\"Hello\\nWorld!\")"
   ]
  },
  {
   "cell_type": "markdown",
   "id": "97410a26",
   "metadata": {},
   "source": [
    "# What is the output of executing the following statement: # print('Hello World!')?"
   ]
  },
  {
   "cell_type": "code",
   "execution_count": 2,
   "id": "00de326c",
   "metadata": {},
   "outputs": [],
   "source": [
    "# print('Hello World!')"
   ]
  }
 ],
 "metadata": {
  "kernelspec": {
   "display_name": "Python 3 (ipykernel)",
   "language": "python",
   "name": "python3"
  },
  "language_info": {
   "codemirror_mode": {
    "name": "ipython",
    "version": 3
   },
   "file_extension": ".py",
   "mimetype": "text/x-python",
   "name": "python",
   "nbconvert_exporter": "python",
   "pygments_lexer": "ipython3",
   "version": "3.8.12"
  }
 },
 "nbformat": 4,
 "nbformat_minor": 5
}
